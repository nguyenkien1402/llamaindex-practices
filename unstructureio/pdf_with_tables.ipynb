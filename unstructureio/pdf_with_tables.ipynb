{
  "nbformat": 4,
  "nbformat_minor": 0,
  "metadata": {
    "colab": {
      "provenance": [],
      "authorship_tag": "ABX9TyO4IpT5ml5c62/IP21dw0x2",
      "include_colab_link": true
    },
    "kernelspec": {
      "name": "python3",
      "display_name": "Python 3"
    },
    "language_info": {
      "name": "python"
    }
  },
  "cells": [
    {
      "cell_type": "markdown",
      "metadata": {
        "id": "view-in-github",
        "colab_type": "text"
      },
      "source": [
        "<a href=\"https://colab.research.google.com/github/nguyenkien1402/llamaindex-practices/blob/main/unstructureio/pdf_with_tables.ipynb\" target=\"_parent\"><img src=\"https://colab.research.google.com/assets/colab-badge.svg\" alt=\"Open In Colab\"/></a>"
      ]
    },
    {
      "cell_type": "code",
      "source": [
        "import os\n",
        "from google.colab import drive\n",
        "MOUNTPOINT = '/content/gdrive'\n",
        "DATADIR = os.path.join(MOUNTPOINT, 'MyDrive', 'llm-poc')\n",
        "drive.mount(MOUNTPOINT)"
      ],
      "metadata": {
        "id": "ZbWs3TNPbPdS",
        "outputId": "60179615-4e11-4832-8a7d-6743ab334c11",
        "colab": {
          "base_uri": "https://localhost:8080/"
        }
      },
      "execution_count": 2,
      "outputs": [
        {
          "output_type": "stream",
          "name": "stdout",
          "text": [
            "Mounted at /content/gdrive\n"
          ]
        }
      ]
    },
    {
      "cell_type": "markdown",
      "source": [
        "# Install libraries"
      ],
      "metadata": {
        "id": "7sBokz9DbkwI"
      }
    },
    {
      "cell_type": "code",
      "execution_count": null,
      "metadata": {
        "id": "aVdqp03mXoSM"
      },
      "outputs": [],
      "source": [
        "!pip install \"unstructured[all-docs]\" llama-index==0.8.49 chromadb==0.4.14 transformers"
      ]
    },
    {
      "cell_type": "code",
      "source": [
        "!python -m pip install 'git+https://github.com/facebookresearch/detectron2.git'"
      ],
      "metadata": {
        "id": "lPFdee0gaci8"
      },
      "execution_count": null,
      "outputs": []
    },
    {
      "cell_type": "code",
      "source": [
        "!pip install paddleocr"
      ],
      "metadata": {
        "id": "eAUha9MgZkoz"
      },
      "execution_count": null,
      "outputs": []
    },
    {
      "cell_type": "code",
      "source": [
        "!git clone https://github.com/Belval/pdf2image"
      ],
      "metadata": {
        "id": "SAFrpIefizu1",
        "outputId": "91209ba4-2661-4d93-c8c2-ea0b67d22ce8",
        "colab": {
          "base_uri": "https://localhost:8080/"
        }
      },
      "execution_count": 11,
      "outputs": [
        {
          "output_type": "stream",
          "name": "stdout",
          "text": [
            "Cloning into 'pdf2image'...\n",
            "remote: Enumerating objects: 892, done.\u001b[K\n",
            "remote: Counting objects: 100% (265/265), done.\u001b[K\n",
            "remote: Compressing objects: 100% (55/55), done.\u001b[K\n",
            "remote: Total 892 (delta 238), reused 211 (delta 210), pack-reused 627\u001b[K\n",
            "Receiving objects: 100% (892/892), 4.69 MiB | 11.20 MiB/s, done.\n",
            "Resolving deltas: 100% (528/528), done.\n"
          ]
        }
      ]
    },
    {
      "cell_type": "code",
      "source": [
        "!pip install poppler-utils\n",
        "!sudo apt-get install -y poppler-utils\n",
        "!sudo apt-get install python-poppler"
      ],
      "metadata": {
        "id": "keSxKKn2hK-_",
        "outputId": "dd3141f4-35de-4c3a-9703-a4173abbcbf1",
        "colab": {
          "base_uri": "https://localhost:8080/"
        }
      },
      "execution_count": 13,
      "outputs": [
        {
          "output_type": "stream",
          "name": "stdout",
          "text": [
            "Requirement already satisfied: poppler-utils in /usr/local/lib/python3.10/dist-packages (0.1.0)\n",
            "Requirement already satisfied: Click>=7.0 in /usr/local/lib/python3.10/dist-packages (from poppler-utils) (8.1.7)\n",
            "Reading package lists... Done\n",
            "Building dependency tree... Done\n",
            "Reading state information... Done\n",
            "poppler-utils is already the newest version (22.02.0-2ubuntu0.2).\n",
            "0 upgraded, 0 newly installed, 0 to remove and 18 not upgraded.\n",
            "Reading package lists... Done\n",
            "Building dependency tree... Done\n",
            "Reading state information... Done\n",
            "E: Unable to locate package python-poppler\n"
          ]
        }
      ]
    },
    {
      "cell_type": "code",
      "source": [
        "!sudo apt install tesseract-ocr\n",
        "!pip install pytesseract"
      ],
      "metadata": {
        "id": "2Qkqp-oshXRX",
        "outputId": "6feb55bb-6146-4a16-a937-355ea1c34389",
        "colab": {
          "base_uri": "https://localhost:8080/"
        }
      },
      "execution_count": 9,
      "outputs": [
        {
          "output_type": "stream",
          "name": "stdout",
          "text": [
            "Reading package lists... Done\n",
            "Building dependency tree... Done\n",
            "Reading state information... Done\n",
            "The following additional packages will be installed:\n",
            "  tesseract-ocr-eng tesseract-ocr-osd\n",
            "The following NEW packages will be installed:\n",
            "  tesseract-ocr tesseract-ocr-eng tesseract-ocr-osd\n",
            "0 upgraded, 3 newly installed, 0 to remove and 18 not upgraded.\n",
            "Need to get 4,816 kB of archives.\n",
            "After this operation, 15.6 MB of additional disk space will be used.\n",
            "Get:1 http://archive.ubuntu.com/ubuntu jammy/universe amd64 tesseract-ocr-eng all 1:4.00~git30-7274cfa-1.1 [1,591 kB]\n",
            "Get:2 http://archive.ubuntu.com/ubuntu jammy/universe amd64 tesseract-ocr-osd all 1:4.00~git30-7274cfa-1.1 [2,990 kB]\n",
            "Get:3 http://archive.ubuntu.com/ubuntu jammy/universe amd64 tesseract-ocr amd64 4.1.1-2.1build1 [236 kB]\n",
            "Fetched 4,816 kB in 3s (1,729 kB/s)\n",
            "debconf: unable to initialize frontend: Dialog\n",
            "debconf: (No usable dialog-like program is installed, so the dialog based frontend cannot be used. at /usr/share/perl5/Debconf/FrontEnd/Dialog.pm line 78, <> line 3.)\n",
            "debconf: falling back to frontend: Readline\n",
            "debconf: unable to initialize frontend: Readline\n",
            "debconf: (This frontend requires a controlling tty.)\n",
            "debconf: falling back to frontend: Teletype\n",
            "dpkg-preconfigure: unable to re-open stdin: \n",
            "Selecting previously unselected package tesseract-ocr-eng.\n",
            "(Reading database ... 120874 files and directories currently installed.)\n",
            "Preparing to unpack .../tesseract-ocr-eng_1%3a4.00~git30-7274cfa-1.1_all.deb ...\n",
            "Unpacking tesseract-ocr-eng (1:4.00~git30-7274cfa-1.1) ...\n",
            "Selecting previously unselected package tesseract-ocr-osd.\n",
            "Preparing to unpack .../tesseract-ocr-osd_1%3a4.00~git30-7274cfa-1.1_all.deb ...\n",
            "Unpacking tesseract-ocr-osd (1:4.00~git30-7274cfa-1.1) ...\n",
            "Selecting previously unselected package tesseract-ocr.\n",
            "Preparing to unpack .../tesseract-ocr_4.1.1-2.1build1_amd64.deb ...\n",
            "Unpacking tesseract-ocr (4.1.1-2.1build1) ...\n",
            "Setting up tesseract-ocr-eng (1:4.00~git30-7274cfa-1.1) ...\n",
            "Setting up tesseract-ocr-osd (1:4.00~git30-7274cfa-1.1) ...\n",
            "Setting up tesseract-ocr (4.1.1-2.1build1) ...\n",
            "Processing triggers for man-db (2.10.2-1) ...\n",
            "Requirement already satisfied: pytesseract in /usr/local/lib/python3.10/dist-packages (0.3.10)\n",
            "Requirement already satisfied: packaging>=21.3 in /usr/local/lib/python3.10/dist-packages (from pytesseract) (23.2)\n",
            "Requirement already satisfied: Pillow>=8.0.0 in /usr/local/lib/python3.10/dist-packages (from pytesseract) (10.1.0)\n"
          ]
        }
      ]
    },
    {
      "cell_type": "markdown",
      "source": [
        "## Import modules"
      ],
      "metadata": {
        "id": "_fEuc2BzbroB"
      }
    },
    {
      "cell_type": "code",
      "source": [
        "from unstructured.partition.pdf import partition_pdf\n",
        "from pydantic import BaseModel\n",
        "from typing import Any, Optional"
      ],
      "metadata": {
        "id": "01CfsHH5a-Qz"
      },
      "execution_count": 27,
      "outputs": []
    },
    {
      "cell_type": "code",
      "source": [
        "# Get elements\n",
        "raw_pdf_elements = partition_pdf(filename=\"gdrive/MyDrive/llm-doc/data/The World's Billionaires - Wikipedia.pdf\",\n",
        "                                 # Unstructured first finds embedded image blocks\n",
        "                                 extract_images_in_pdf=False,\n",
        "                                 # Use layout model (YOLOX) to get bounding boxes (for tables) and find titles\n",
        "                                 # Titles are any sub-section of the document\n",
        "                                 infer_table_structure=True,\n",
        "                                 # Post processing to aggregate text once we have the title\n",
        "                                 chunking_strategy=\"by_title\",\n",
        "                                 # Chunking params to aggregate text blocks\n",
        "                                 # Attempt to create a new chunk 3800 chars\n",
        "                                 # Attempt to keep chunks > 2000 chars\n",
        "                                #  max_characters=4000,\n",
        "                                #  new_after_n_chars=3800,\n",
        "                                #  combine_text_under_n_chars=2000\n",
        "                                 )"
      ],
      "metadata": {
        "id": "P0CZy9g3bNQr"
      },
      "execution_count": 16,
      "outputs": []
    },
    {
      "cell_type": "code",
      "source": [
        "# Create a dictionary to store counts of each type\n",
        "category_counts = {}\n",
        "\n",
        "for element in raw_pdf_elements:\n",
        "    category = str(type(element))\n",
        "    if category in category_counts:\n",
        "        category_counts[category] += 1\n",
        "    else:\n",
        "        category_counts[category] = 1\n",
        "\n",
        "# Unique_categories will have unique elements\n",
        "unique_categories = set(category_counts.keys())\n",
        "category_counts"
      ],
      "metadata": {
        "id": "gVoX1pNQmrI_",
        "outputId": "3788a1a4-0fed-4a34-c2cb-c496b7a1b4a3",
        "colab": {
          "base_uri": "https://localhost:8080/"
        }
      },
      "execution_count": 18,
      "outputs": [
        {
          "output_type": "execute_result",
          "data": {
            "text/plain": [
              "{\"<class 'unstructured.documents.elements.CompositeElement'>\": 248,\n",
              " \"<class 'unstructured.documents.elements.Table'>\": 12,\n",
              " \"<class 'unstructured.documents.elements.TableChunk'>\": 58}"
            ]
          },
          "metadata": {},
          "execution_count": 18
        }
      ]
    },
    {
      "cell_type": "code",
      "source": [
        "tables = [el for el in raw_pdf_elements if el.category == \"Table\"]\n",
        "tables_chunk = [el for el in raw_pdf_elements if el.category == \"TableChunk\"]\n",
        "\n",
        "print(tables[0].text)\n",
        "print(tables[2].metadata.text_as_html)"
      ],
      "metadata": {
        "id": "lpm5wPGJfy6I",
        "outputId": "515d2063-82aa-4437-ec2b-05fa409ae88a",
        "colab": {
          "base_uri": "https://localhost:8080/"
        }
      },
      "execution_count": 23,
      "outputs": [
        {
          "output_type": "stream",
          "name": "stdout",
          "text": [
            "Publication details Publisher Whale Media Investments Forbes family Publication Forbes March 1987[1] First published Latest publication April 4, 2023 Current list details (2023)[2] Wealthiest Bernard Arnault Net worth (1st) US$211 billion Number of billionaires 2,640 (from 2668) Total list net worth value US$12.2 trillion (from US$ 12.7 trillion) Number of women 337 New members to the list 150\n",
            "<table><thead><th>1A</th><th>Bernard Arnault &amp; | family</th><th>$211 billion &amp;</th><th>74</th><th>Bf § France</th><th>LVMH</th></thead><tr><td>2</td><td>| Elon Musk</td><td>$180 billion W</td><td>54</td><td>= United States</td><td>Tesla, SpaceX</td></tr><tr><td>3</td><td>| Jeff Bezos</td><td>$114 billion W</td><td>59</td><td>BS United States</td><td>Amazon</td></tr><tr><td>4a |</td><td>Larry Ellison</td><td>$107 billion &amp;</td><td>78</td><td>5 United States</td><td>Oracle Corporation</td></tr><tr><td>5</td><td>| Warren Buffett</td><td>$106 billion W</td><td>92</td><td>= United States</td><td>Berkshire Hathaway</td></tr><tr><td>6W</td><td>| Bill Gates</td><td>$104 billion W</td><td>87</td><td>5 United States</td><td>Microsoft</td></tr><tr><td>7A</td><td>| Michael Bloomberg</td><td>$94.5 billion A</td><td>81</td><td>= United States</td><td>Bloomberg L.P.</td></tr><tr><td>8A</td><td>| Carlos Slim &amp; family</td><td>$93 billion A</td><td>83</td><td>El Mexico</td><td>Telmex, América Movil, Grupo Carso</td></tr><tr><td>94</td><td>| Mukesh Ambani</td><td>$83.4 billion W</td><td>65</td><td>| SES India</td><td>Reliance Industries</td></tr><tr><td></td><td>Steve Ballmer</td><td>$80.7 billion</td><td>67</td><td>5 United</td><td>Microsoft</td></tr></table>\n"
          ]
        }
      ]
    },
    {
      "cell_type": "code",
      "source": [
        "class Element(BaseModel):\n",
        "    type: str\n",
        "    text: Any\n",
        "\n",
        "# Categorize by type\n",
        "categorized_elements = []\n",
        "for element in raw_pdf_elements:\n",
        "    if \"unstructured.documents.elements.Table\" in str(type(element)):\n",
        "        categorized_elements.append(Element(type=\"table\", text=str(element)))\n",
        "    elif \"unstructured.documents.elements.CompositeElement\" in str(type(element)):\n",
        "        categorized_elements.append(Element(type=\"text\", text=str(element)))\n",
        "\n",
        "# Tables\n",
        "table_elements = [e for e in categorized_elements if e.type == \"table\"]\n",
        "print(len(table_elements))\n",
        "\n",
        "# Text\n",
        "text_elements = [e for e in categorized_elements if e.type == \"text\"]\n",
        "print(len(text_elements))"
      ],
      "metadata": {
        "id": "5ctruaUJs9kz",
        "outputId": "930ba056-1f26-4449-cbac-f38f9fddb862",
        "colab": {
          "base_uri": "https://localhost:8080/"
        }
      },
      "execution_count": 28,
      "outputs": [
        {
          "output_type": "stream",
          "name": "stdout",
          "text": [
            "70\n",
            "248\n"
          ]
        }
      ]
    },
    {
      "cell_type": "code",
      "source": [],
      "metadata": {
        "id": "mDxvgRlstQ8p"
      },
      "execution_count": null,
      "outputs": []
    }
  ]
}